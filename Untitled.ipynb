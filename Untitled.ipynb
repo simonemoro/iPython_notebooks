{
 "cells": [
  {
   "cell_type": "code",
   "execution_count": 1,
   "metadata": {
    "ExecuteTime": {
     "end_time": "2018-03-05T15:12:36.498049Z",
     "start_time": "2018-03-05T15:12:34.821Z"
    }
   },
   "outputs": [
    {
     "name": "stderr",
     "output_type": "stream",
     "text": [
      "Bioconductor version 3.6 (BiocInstaller 1.28.0), ?biocLite for help\n"
     ]
    }
   ],
   "source": [
    "source(\"https://bioconductor.org/biocLite.R\")\n"
   ]
  },
  {
   "cell_type": "code",
   "execution_count": 10,
   "metadata": {
    "ExecuteTime": {
     "end_time": "2018-03-05T14:50:40.467929Z",
     "start_time": "2018-03-05T14:50:18.331Z"
    }
   },
   "outputs": [
    {
     "name": "stderr",
     "output_type": "stream",
     "text": [
      "BioC_mirror: https://bioconductor.org\n",
      "Using Bioconductor 3.6 (BiocInstaller 1.28.0), R 3.4.2 (2017-09-28).\n",
      "Installing package(s) ‘RCurl’\n",
      "Updating HTML index of packages in '.Library'\n",
      "Making 'packages.html' ... done\n",
      "Old packages: 'BH', 'callr', 'checkpoint', 'curl', 'DBI', 'dbplyr', 'ddalpha',\n",
      "  'digest', 'doParallel', 'DRR', 'forcats', 'foreach', 'haven', 'hexbin',\n",
      "  'hms', 'htmlwidgets', 'httpuv', 'iterators', 'jsonlite', 'knitr', 'labeling',\n",
      "  'lava', 'lubridate', 'magrittr', 'MASS', 'mgcv', 'nlme', 'openssl', 'pbdZMQ',\n",
      "  'pillar', 'png', 'pryr', 'R6', 'Rcpp', 'recipes', 'reprex', 'rlang',\n",
      "  'rmarkdown', 'rpart', 'rprojroot', 'RUnit', 'selectr', 'sfsmisc', 'stringr',\n",
      "  'tibble', 'tidyr', 'tidyselect', 'timeDate', 'TTR', 'utf8', 'viridisLite',\n",
      "  'whisker', 'xml2', 'yaml', 'zoo'\n"
     ]
    }
   ],
   "source": [
    "biocLite(\"RCurl\")"
   ]
  },
  {
   "cell_type": "code",
   "execution_count": 11,
   "metadata": {
    "ExecuteTime": {
     "end_time": "2018-03-05T14:51:22.795545Z",
     "start_time": "2018-03-05T14:51:22.601Z"
    }
   },
   "outputs": [
    {
     "name": "stderr",
     "output_type": "stream",
     "text": [
      "Warning message:\n",
      "“package ‘RCurl’ was built under R version 3.4.3”Loading required package: bitops\n"
     ]
    }
   ],
   "source": [
    "library(RCurl)"
   ]
  },
  {
   "cell_type": "code",
   "execution_count": null,
   "metadata": {
    "ExecuteTime": {
     "start_time": "2018-03-05T14:52:38.573Z"
    }
   },
   "outputs": [
    {
     "name": "stderr",
     "output_type": "stream",
     "text": [
      "BioC_mirror: https://bioconductor.org\n",
      "Using Bioconductor 3.6 (BiocInstaller 1.28.0), R 3.4.2 (2017-09-28).\n",
      "Installing package(s) ‘rtracklayer’\n",
      "also installing the dependencies ‘matrixStats’, ‘Biobase’, ‘DelayedArray’, ‘BiocParallel’, ‘SummarizedExperiment’, ‘GenomicRanges’, ‘XML’, ‘S4Vectors’, ‘IRanges’, ‘XVector’, ‘GenomeInfoDb’, ‘Biostrings’, ‘zlibbioc’, ‘Rsamtools’, ‘GenomicAlignments’\n",
      "\n"
     ]
    }
   ],
   "source": [
    "biocLite(\"rtracklayer\")\n",
    "library(rtracklayer)"
   ]
  },
  {
   "cell_type": "code",
   "execution_count": 1,
   "metadata": {
    "ExecuteTime": {
     "end_time": "2018-03-05T14:27:27.713051Z",
     "start_time": "2018-03-05T14:27:23.443Z"
    }
   },
   "outputs": [
    {
     "name": "stderr",
     "output_type": "stream",
     "text": [
      "Warning message in install.packages(\"ggrepel\", repos = \"http://cran.us.r-project.org\"):\n",
      "“installation of package ‘ggrepel’ had non-zero exit status”Updating HTML index of packages in '.Library'\n",
      "Making 'packages.html' ... done\n"
     ]
    }
   ],
   "source": [
    "install.packages(\"ggrepel\", repos = \"http://cran.us.r-project.org\")"
   ]
  },
  {
   "cell_type": "code",
   "execution_count": 5,
   "metadata": {
    "ExecuteTime": {
     "end_time": "2018-03-05T14:15:40.808349Z",
     "start_time": "2018-03-05T14:15:40.780Z"
    }
   },
   "outputs": [
    {
     "ename": "ERROR",
     "evalue": "Error in library(\"RCurl\"): there is no package called ‘RCurl’\n",
     "output_type": "error",
     "traceback": [
      "Error in library(\"RCurl\"): there is no package called ‘RCurl’\nTraceback:\n",
      "1. library(\"RCurl\")",
      "2. stop(txt, domain = NA)"
     ]
    }
   ],
   "source": [
    "library(\"ggrepel\")"
   ]
  },
  {
   "cell_type": "raw",
   "metadata": {},
   "source": []
  }
 ],
 "metadata": {
  "kernelspec": {
   "display_name": "R",
   "language": "R",
   "name": "ir"
  },
  "language_info": {
   "codemirror_mode": "r",
   "file_extension": ".r",
   "mimetype": "text/x-r-source",
   "name": "R",
   "pygments_lexer": "r",
   "version": "3.4.3"
  },
  "nbTranslate": {
   "displayLangs": [
    "*"
   ],
   "hotkey": "alt-t",
   "langInMainMenu": true,
   "sourceLang": "en",
   "targetLang": "fr",
   "useGoogleTranslate": true
  },
  "toc": {
   "nav_menu": {},
   "number_sections": true,
   "sideBar": true,
   "skip_h1_title": false,
   "title_cell": "Table of Contents",
   "title_sidebar": "Contents",
   "toc_cell": false,
   "toc_position": {},
   "toc_section_display": true,
   "toc_window_display": false
  }
 },
 "nbformat": 4,
 "nbformat_minor": 2
}
